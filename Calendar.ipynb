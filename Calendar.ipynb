{
 "cells": [
  {
   "cell_type": "markdown",
   "metadata": {},
   "source": [
    "# Demo QuantLib with python: playing with calendar\n",
    "\n",
    "In this Notebook we play with the Calendar module in QuantLib with python\n",
    "\n",
    "we first make sure that our script have access to QuantLib:"
   ]
  },
  {
   "cell_type": "code",
   "execution_count": 1,
   "metadata": {},
   "outputs": [],
   "source": [
    "import QuantLib as ql"
   ]
  },
  {
   "cell_type": "markdown",
   "metadata": {},
   "source": [
    "we then create various calendars:"
   ]
  },
  {
   "cell_type": "code",
   "execution_count": 2,
   "metadata": {},
   "outputs": [],
   "source": [
    "cal1 = ql.UnitedKingdom()\n",
    "cal2 = ql.UnitedStates()\n",
    "cal3 = ql.Sweden()\n",
    "cal4 = ql.France()"
   ]
  },
  {
   "cell_type": "markdown",
   "metadata": {},
   "source": [
    "we initialise the dates and the counting indeces:"
   ]
  },
  {
   "cell_type": "code",
   "execution_count": 3,
   "metadata": {},
   "outputs": [],
   "source": [
    "start_date = ql.Date('01-01-2021','%d-%m-%Y')\n",
    "end_date = ql.Date('31-12-2021','%d-%m-%Y')\n",
    "n1 = 0\n",
    "n2 = 0\n",
    "n3 = 0\n",
    "n4 = 0"
   ]
  },
  {
   "cell_type": "markdown",
   "metadata": {},
   "source": [
    "we loop across the year 2021:"
   ]
  },
  {
   "cell_type": "code",
   "execution_count": 4,
   "metadata": {},
   "outputs": [],
   "source": [
    "d = start_date\n",
    "while d < end_date:\n",
    "    if cal1.isBusinessDay(d):\n",
    "        n1 = n1 + 1\n",
    "    if cal2.isBusinessDay(d):\n",
    "        n2 = n2 + 1\n",
    "    if cal3.isBusinessDay(d):\n",
    "        n3 = n3 + 1\n",
    "    if cal4.isBusinessDay(d):\n",
    "        n4 = n4 + 1\n",
    "    d = d + 1"
   ]
  },
  {
   "cell_type": "markdown",
   "metadata": {},
   "source": [
    "we finally print the results:"
   ]
  },
  {
   "cell_type": "code",
   "execution_count": 5,
   "metadata": {},
   "outputs": [
    {
     "name": "stdout",
     "output_type": "stream",
     "text": [
      "\n",
      "Number of business days in 2021:\n",
      "in the UK: 252\n",
      "in the USA: 250\n",
      "in Sweden: 253\n",
      "in France: 253\n"
     ]
    }
   ],
   "source": [
    "print('\\nNumber of business days in 2021:')\n",
    "print('in the UK:', n1)\n",
    "print('in the USA:', n2)\n",
    "print('in Sweden:', n3)\n",
    "print('in France:', n4)"
   ]
  },
  {
   "cell_type": "markdown",
   "metadata": {},
   "source": [
    "### So we work more in France and in Sweden than in the UK and USA :-)"
   ]
  }
 ],
 "metadata": {
  "kernelspec": {
   "display_name": "Python 3",
   "language": "python",
   "name": "python3"
  },
  "language_info": {
   "codemirror_mode": {
    "name": "ipython",
    "version": 3
   },
   "file_extension": ".py",
   "mimetype": "text/x-python",
   "name": "python",
   "nbconvert_exporter": "python",
   "pygments_lexer": "ipython3",
   "version": "3.8.5"
  }
 },
 "nbformat": 4,
 "nbformat_minor": 4
}
